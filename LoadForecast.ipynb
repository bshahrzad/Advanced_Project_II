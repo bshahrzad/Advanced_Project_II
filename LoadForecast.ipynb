{
 "cells": [
  {
   "cell_type": "markdown",
   "metadata": {},
   "source": [
    "# Import statements"
   ]
  },
  {
   "cell_type": "code",
   "execution_count": 2,
   "metadata": {},
   "outputs": [],
   "source": [
    "%matplotlib notebook\n",
    "\n",
    "import numpy as np\n",
    "import matplotlib\n",
    "import matplotlib.pyplot as plt\n",
    "import math"
   ]
  },
  {
   "cell_type": "markdown",
   "metadata": {},
   "source": [
    "# Loading of data"
   ]
  },
  {
   "cell_type": "code",
   "execution_count": 14,
   "metadata": {},
   "outputs": [],
   "source": [
    "data = np.genfromtxt('dataset', delimiter =',')\n",
    "info = data[:,1]\n",
    "plt.plot(info[800:2000])"
   ]
  },
  {
   "cell_type": "markdown",
   "metadata": {},
   "source": [
    "#  Processing (Log and Standarization)"
   ]
  },
  {
   "cell_type": "code",
   "execution_count": 61,
   "metadata": {},
   "outputs": [
    {
     "name": "stdout",
     "output_type": "stream",
     "text": [
      "491961.47\n"
     ]
    }
   ],
   "source": [
    "shiftval = np.abs(np.min(info))+1\n",
    "print(shiftval)\n",
    "shifted = info + shiftval\n",
    "logged = np.log10(shifted)\n",
    "\n",
    "Lmean = np.mean(logged)\n",
    "Lstd = np.std(logged)\n",
    "normed = (logged - Lmean) / Lstd"
   ]
  },
  {
   "cell_type": "markdown",
   "metadata": {},
   "source": [
    "#  Data Separation"
   ]
  },
  {
   "cell_type": "code",
   "execution_count": 132,
   "metadata": {},
   "outputs": [
    {
     "name": "stdout",
     "output_type": "stream",
     "text": [
      "8568 2400 8568\n"
     ]
    }
   ],
   "source": [
    "dataESN = normed[:]\n",
    "#initialize the reserviour parameters\n",
    "_input = 1\n",
    "output = 1\n",
    "units = 1000\n",
    "\n",
    "kfold = 6\n",
    "Prediction = 2400\n",
    "New_train = dataESN[0:-Prediction]\n",
    "New_test = dataESN[-Prediction:]\n",
    "New_teach = dataESN[168:-Prediction+168]\n",
    "wash = 400\n",
    "print(len(New_train), len(New_test), len(New_teach))"
   ]
  },
  {
   "cell_type": "markdown",
   "metadata": {},
   "source": [
    "# Initializing ESN"
   ]
  },
  {
   "cell_type": "code",
   "execution_count": 133,
   "metadata": {},
   "outputs": [],
   "source": [
    "#initialize the reserviour parameters\n",
    "_input = 1\n",
    "output = 1\n",
    "units = 1000\n",
    "\n",
    "np.random.seed(42)\n",
    "#reservoir parameters\n",
    "Win = (np.random.rand(units,_input)-0.5) * 1\n",
    "W = np.random.rand(units,units)-0.5 \n",
    "bias = np.random.rand(units,1)-0.5 \n",
    "\n",
    "#calculating the spectral radius\n",
    "sp_radius = np.max(np.abs(np.linalg.eig(W)[0]))\n",
    "print(sp_radius)\n",
    "W *= 1/sp_radius\n",
    "\n",
    "#scaling factors\n",
    "Winsf = 2.0\n",
    "Wsf = 1.5\n",
    "bsf = 0.48\n",
    "alpha = 0.028\n",
    "#scale the matrices\n",
    "Win *= Winsf\n",
    "W *= Wsf\n",
    "bias *= bsf"
   ]
  },
  {
   "cell_type": "markdown",
   "metadata": {},
   "source": [
    "# Cross Validation"
   ]
  },
  {
   "cell_type": "code",
   "execution_count": 134,
   "metadata": {},
   "outputs": [
    {
     "name": "stdout",
     "output_type": "stream",
     "text": [
      "ROUND:  0\n",
      "ROUND:  1\n",
      "ROUND:  2\n",
      "ROUND:  3\n",
      "ROUND:  4\n",
      "ROUND:  5\n",
      "NRMSEmean:  0.545039029833 \n",
      "Nrmse:  [ 0.60857832  0.49489903  0.50962825  0.53189226  0.69696164  0.42827467]\n",
      "MAPEmean:  3.67733040556 \n",
      "MAPE:  [ 3.04154555  8.8235768   1.7770876   2.21780495  3.22255339  2.98141414]\n"
     ]
    }
   ],
   "source": [
    "NRMSE_vec = np.zeros(kfold)\n",
    "MAPE_vec = np.zeros(kfold)\n",
    "Nmax = len(New_train)\n",
    "\n",
    "for k in range(kfold):\n",
    "    aval = (k) * int(np.floor(Nmax/kfold))\n",
    "    bval = (k+1) * int(np.floor(Nmax/kfold))\n",
    "    print('ROUND: ', k)\n",
    "    \n",
    "    input_test = New_train[aval:bval]\n",
    "    teach = np.hstack((New_teach[0:aval],New_teach[bval:Nmax]))\n",
    "    train = np.hstack((New_train[0:aval],New_train[bval:Nmax]))\n",
    "    \n",
    "    trainlen = np.shape(train)[0]\n",
    "    testlen = np.shape(input_test)[0]\n",
    "    \n",
    "\n",
    "    # data collection matrix\n",
    "    SCM = np.zeros((_input+units,trainlen), dtype=np.float32)\n",
    "    p = np.zeros((1+units), dtype=np.float32)\n",
    "    x = np.zeros((units,), dtype=np.float32)\n",
    "    \n",
    "    # training phase\n",
    "    for j in range(trainlen):\n",
    "        u = train[j]\n",
    "        p[0] = u\n",
    "        x = np.tanh(np.dot(Win,u) + np.dot(W,x) + bias)\n",
    "        p[1:] = x\n",
    "        SCM[:, j] = p\n",
    "  \n",
    "    teach =teach[wash:]\n",
    "    SCM = SCM[:, wash:]\n",
    "    Wout = np.dot(np.dot(teach.T, SCM.T), np.linalg.inv(np.dot(SCM,SCM.T) + alpha*np.eye(units+_input)))\n",
    "\n",
    "    # Prediction phase\n",
    "    Y = np.zeros(testlen)\n",
    "    u = input_test[0]\n",
    "    for t in range(testlen-1):\n",
    "        x = np.tanh(np.dot(Win,u) + np.dot(W,x) + bias)\n",
    "        p[0] = u\n",
    "        p[1:] = x\n",
    "        y = np.dot(Wout, p)\n",
    "        Y[t] = y\n",
    "        u = input_test[t+1]\n",
    "    # Error calculation\n",
    "    input_test = input_test[1:]\n",
    "    Y = Y[0:testlen-1]\n",
    "    Error = input_test - Y\n",
    "    MSE = np.mean(np.power(Error, 2))\n",
    "    varD = np.mean(np.power((input_test - np.mean(input_test)), 2))\n",
    "    NRMSE = math.sqrt(MSE/varD)\n",
    "    NRMSE_vec[k] = NRMSE\n",
    "    MAPE = np.mean(np.abs((input_test - Y)/Y))\n",
    "    MAPE_vec[k] = MAPE\n",
    "    \n",
    "    \n",
    "meanNRMSE = np.mean(NRMSE_vec)\n",
    "print('NRMSEmean: ', meanNRMSE, '\\nNrmse: ', NRMSE_vec)\n",
    "meanMAPE = np.mean(MAPE_vec)\n",
    "print('MAPEmean: ', meanMAPE, '\\nMAPE: ', MAPE_vec)"
   ]
  },
  {
   "cell_type": "markdown",
   "metadata": {},
   "source": [
    "# Final Testing"
   ]
  },
  {
   "cell_type": "code",
   "execution_count": 136,
   "metadata": {},
   "outputs": [],
   "source": [
    "finaltestlen = New_test.shape[0]\n",
    "\n",
    "ST= np.zeros((_input+units,finaltestlen), dtype=np.float32)\n",
    "p = np.zeros((1+units), dtype=np.float32)\n",
    "x = np.zeros((units,), dtype=np.float32)\n",
    "    \n",
    "for f in range(finaltestlen):\n",
    "        u = New_test[f]\n",
    "        p[0] = u\n",
    "        x = np.tanh(np.dot(Win,p[0]) + np.dot(W,x) + bias)\n",
    "        p[1:] = x\n",
    "        ST[:, f] = p\n",
    "\n",
    "YoutT = np.dot(Wout, ST)\n",
    "YoutT.shape[0]"
   ]
  },
  {
   "cell_type": "markdown",
   "metadata": {},
   "source": [
    "# Final Error Calculation"
   ]
  },
  {
   "cell_type": "code",
   "execution_count": 139,
   "metadata": {},
   "outputs": [
    {
     "name": "stdout",
     "output_type": "stream",
     "text": [
      "0.3471791982218397\n",
      "1.91335912317\n"
     ]
    }
   ],
   "source": [
    "Error = New_test - YoutT\n",
    "MSE = np.mean(np.power(Error, 2))\n",
    "varD = np.mean(np.power((New_test - np.mean(New_test)), 2))\n",
    "NRMSE = math.sqrt(MSE/varD)\n",
    "MAPE = np.mean(np.abs((New_test - YoutT)/YoutT))\n",
    "print(NRMSE)\n",
    "print(MAPE)"
   ]
  }
 ],
 "metadata": {
  "kernelspec": {
   "display_name": "Python 3",
   "language": "python",
   "name": "python3"
  },
  "language_info": {
   "codemirror_mode": {
    "name": "ipython",
    "version": 3
   },
   "file_extension": ".py",
   "mimetype": "text/x-python",
   "name": "python",
   "nbconvert_exporter": "python",
   "pygments_lexer": "ipython3",
   "version": "3.5.2"
  }
 },
 "nbformat": 4,
 "nbformat_minor": 2
}
